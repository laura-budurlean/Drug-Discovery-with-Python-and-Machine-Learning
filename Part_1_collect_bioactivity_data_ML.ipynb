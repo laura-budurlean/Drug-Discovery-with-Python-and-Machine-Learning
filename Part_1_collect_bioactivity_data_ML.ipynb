{
  "cells": [
    {
      "cell_type": "markdown",
      "metadata": {
        "colab_type": "text",
        "id": "wSFbIMb87cHu"
      },
      "source": [
        "# **Computational Drug Discovery [Part 1] Downloading Bioactivity Data from ChEMBL**\n",
        "\n",
        "Building a machine learning model using the ChEMBL bioactivity data.\n",
        "Based on coursework from data science professor: Chanin Nantasenamat\n",
        "\n",
        "---"
      ]
    },
    {
      "cell_type": "markdown",
      "metadata": {
        "colab_type": "text",
        "id": "3iQiERxumDor"
      },
      "source": [
        "## **ChEMBL Database**\n",
        "\n",
        "The [*ChEMBL Database*](https://www.ebi.ac.uk/chembl/) is a database that \"brings together chemical, bioactivity and genomic data to aid the translation of genomic information into effective new drugs.\""
      ]
    },
    {
      "cell_type": "markdown",
      "metadata": {
        "colab_type": "text",
        "id": "iryGAwAIQ4yf"
      },
      "source": [
        "## **Installing libraries**"
      ]
    },
    {
      "cell_type": "markdown",
      "metadata": {
        "colab_type": "text",
        "id": "toGT1U_B7F2i"
      },
      "source": [
        "Install the ChEMBL web service package so that we can retrieve bioactivity data from the ChEMBL Database."
      ]
    },
    {
      "cell_type": "code",
      "execution_count": 0,
      "metadata": {
        "colab": {
          "base_uri": "https://localhost:8080/",
          "height": 349
        },
        "colab_type": "code",
        "id": "cJGExHQBfLh7",
        "outputId": "783c9cb5-c5d4-4545-a9d3-6c2a2f2b0e53"
      },
      "outputs": [],
      "source": [
        "pip install chembl_webresource_client"
      ]
    },
    {
      "cell_type": "markdown",
      "metadata": {
        "colab_type": "text",
        "id": "J0kJjL8gb5nX"
      },
      "source": [
        "## **Importing libraries**"
      ]
    },
    {
      "cell_type": "code",
      "execution_count": 0,
      "metadata": {
        "colab": {},
        "colab_type": "code",
        "id": "RXoCvMPPfNrv"
      },
      "outputs": [],
      "source": [
        "# Import necessary libraries\n",
        "import pandas as pd\n",
        "from chembl_webresource_client.new_client import new_client"
      ]
    },
    {
      "cell_type": "markdown",
      "metadata": {
        "colab_type": "text",
        "id": "1FgUai1bfigC"
      },
      "source": [
        "## **Search for Target protein**"
      ]
    },
    {
      "cell_type": "markdown",
      "metadata": {
        "colab_type": "text",
        "id": "7lBsDrD0gAqH"
      },
      "source": [
        "### **Target search for BCR::ABL1 gene fusion**\n",
        "\n",
        "The BCR::ABL1 fusion is a genetic abnormality resulting from a translocation between chromosomes 9 and 22, forming the Philadelphia chromosome. This fusion gene encodes a constitutively active tyrosine kinase that drives uncontrolled cell proliferation and survival, contributing to pediatric B-cell acute lymphoblastic leukemia (B-ALL). It is associated with a more aggressive disease course but is treatable with targeted therapies like tyrosine kinase inhibitors (TKIs). Early detection and combining TKIs with chemotherapy have significantly improved outcomes in affected children. \n",
        "\n",
        "\n"
      ]
    },
    {
      "cell_type": "code",
      "execution_count": 0,
      "metadata": {
        "colab": {
          "base_uri": "https://localhost:8080/",
          "height": 145
        },
        "colab_type": "code",
        "id": "Vxtp79so4ZjF",
        "outputId": "e90dde45-1c0d-4fd9-f693-cb6e6032e2cd"
      },
      "outputs": [],
      "source": [
        "# Target search for coronavirus\n",
        "target = new_client.target\n",
        "target_query = target.search('BCR::ABL1')\n",
        "targets = pd.DataFrame.from_dict(target_query)\n",
        "targets"
      ]
    },
    {
      "cell_type": "markdown",
      "metadata": {
        "colab_type": "text",
        "id": "Y5OPfEALjAfZ"
      },
      "source": [
        "### **We proceed with the bioactivity data for *\"Bcr/Abl fusion protein\"* with the ID CHEMBL2096618**"
      ]
    },
    {
      "cell_type": "markdown",
      "metadata": {
        "colab_type": "text",
        "id": "gSQ3aroOgML7"
      },
      "source": [
        "We will assign the fourth entry, which corresponds to the target protein, *\"Bcr/Abl fusion protein\"* to the ***selected_target*** variable \n",
        "\n",
        "This will make the BCR::ABL1 fusion protein, as the target for downstream steps. We will use the index number 3 for this entry"
      ]
    },
    {
      "cell_type": "code",
      "execution_count": 0,
      "metadata": {
        "colab": {
          "base_uri": "https://localhost:8080/",
          "height": 35
        },
        "colab_type": "code",
        "id": "StrcHMVLha7u",
        "outputId": "a558535b-c66a-42ce-8604-3cf34dbff90b"
      },
      "outputs": [
        {
          "data": {
            "text/plain": [
              "'CHEMBL2096618'"
            ]
          },
          "execution_count": 111,
          "metadata": {},
          "output_type": "execute_result"
        }
      ],
      "source": [
        "selected_target = targets.target_chembl_id[3]\n",
        "selected_target"
      ]
    },
    {
      "cell_type": "markdown",
      "metadata": {
        "colab_type": "text",
        "id": "GWd2DRalgjzB"
      },
      "source": [
        "Here, we will retrieve only bioactivity data for *\"Bcr/Abl fusion protein\"* that are reported as IC50 values in nM (nanomolar)."
      ]
    },
    {
      "cell_type": "code",
      "execution_count": 0,
      "metadata": {
        "colab": {},
        "colab_type": "code",
        "id": "LeFbV_CsSP8D"
      },
      "outputs": [],
      "source": [
        "activity = new_client.activity\n",
        "res = activity.filter(target_chembl_id=selected_target).filter(type=\"IC50\").filter(units=\"nM\")"
      ]
    },
    {
      "cell_type": "markdown",
      "metadata": {},
      "source": [
        "Put the info into a dataframe named `df`"
      ]
    },
    {
      "cell_type": "code",
      "execution_count": 0,
      "metadata": {
        "colab": {},
        "colab_type": "code",
        "id": "RC4T-NEmSWV-"
      },
      "outputs": [],
      "source": [
        "df = pd.DataFrame.from_dict(res)"
      ]
    },
    {
      "cell_type": "markdown",
      "metadata": {},
      "source": [
        "Displaying the data frame we just made"
      ]
    },
    {
      "cell_type": "code",
      "execution_count": 0,
      "metadata": {
        "colab": {
          "base_uri": "https://localhost:8080/",
          "height": 265
        },
        "colab_type": "code",
        "id": "s9iUAXFdSkoM",
        "outputId": "c9b681cc-97ab-40fb-a735-5e2b39612f8c"
      },
      "outputs": [],
      "source": [
        "df"
      ]
    },
    {
      "cell_type": "markdown",
      "metadata": {},
      "source": [
        "The lower the IC50 nM value, the more potent the drug. Meaning it takes a lower concentration of drug to inhibit 50% of the target protein."
      ]
    },
    {
      "cell_type": "code",
      "execution_count": 0,
      "metadata": {
        "colab": {
          "base_uri": "https://localhost:8080/",
          "height": 35
        },
        "colab_type": "code",
        "id": "oNtBv36dYhxy",
        "outputId": "db6a7832-55eb-484c-b56c-98cdcd5944dd"
      },
      "outputs": [
        {
          "data": {
            "text/plain": [
              "array(['IC50'], dtype=object)"
            ]
          },
          "execution_count": 129,
          "metadata": {},
          "output_type": "execute_result"
        }
      ],
      "source": [
        "df.standard_type.unique()"
      ]
    },
    {
      "cell_type": "markdown",
      "metadata": {
        "colab_type": "text",
        "id": "fQ78N26Fg15T"
      },
      "source": [
        "Finally we will save the resulting bioactivity data to a CSV file **bioactivity_data.csv**. We use index=False because we don't want the index to be written to the CSV file."
      ]
    },
    {
      "cell_type": "code",
      "execution_count": 0,
      "metadata": {
        "colab": {},
        "colab_type": "code",
        "id": "tew-UtUWIS__"
      },
      "outputs": [
        {
          "name": "stdout",
          "output_type": "stream",
          "text": [
            "mkdir: cannot create directory '/data': File exists\n"
          ]
        }
      ],
      "source": [
        "! mkdir \"/data\"\n",
        "%cd \"/path/to/data\""
      ]
    },
    {
      "cell_type": "code",
      "execution_count": 0,
      "metadata": {
        "colab": {},
        "colab_type": "code",
        "id": "ZvUUEIVxTOH1"
      },
      "outputs": [],
      "source": [
        "df.to_csv('bioactivity_data.csv', index=False)"
      ]
    },
    {
      "cell_type": "markdown",
      "metadata": {
        "colab_type": "text",
        "id": "7UAasSu5jAeB"
      },
      "source": [
        "View **bioactivity_data.csv** file in /data."
      ]
    },
    {
      "cell_type": "code",
      "execution_count": 0,
      "metadata": {
        "colab": {
          "base_uri": "https://localhost:8080/",
          "height": 211
        },
        "colab_type": "code",
        "id": "jwEJjx5b5gAn",
        "outputId": "69dce8c6-565d-4537-952e-b01da9f2fd83"
      },
      "outputs": [],
      "source": [
        "! head bioactivity_data.csv"
      ]
    },
    {
      "cell_type": "markdown",
      "metadata": {
        "colab_type": "text",
        "id": "_GXMpFNUOn_8"
      },
      "source": [
        "## **Drop missing values...if any**\n",
        "If any compounds has missing value for the **standard_value** column then drop it"
      ]
    },
    {
      "cell_type": "code",
      "execution_count": 0,
      "metadata": {
        "colab": {
          "base_uri": "https://localhost:8080/",
          "height": 782
        },
        "colab_type": "code",
        "id": "hkVOdk6ZR396",
        "outputId": "fc08d57e-f832-4cb0-90f2-dc7394b0209d"
      },
      "outputs": [],
      "source": [
        "df2 = df[df.standard_value.notna()]\n",
        "df2"
      ]
    },
    {
      "cell_type": "markdown",
      "metadata": {
        "colab_type": "text",
        "id": "5H4sSFAWhV9B"
      },
      "source": [
        "## **Data pre-processing of the bioactivity data**"
      ]
    },
    {
      "cell_type": "markdown",
      "metadata": {
        "colab_type": "text",
        "id": "tO22XVlzhkXR"
      },
      "source": [
        "### **Labeling compounds as either being active, inactive or intermediate**\n",
        "The bioactivity data is in the IC50 unit in nM. The ranges you pick will depend on the target, disease, or other factors. \n",
        "\n",
        "**Generally** compounds having values of less than 1000 nM will be considered to be **active** while those greater than 10,000 nM will be considered to be **inactive**. As for those values in between 1,000 and 10,000 nM will be referred to as **intermediate**. \n",
        "\n",
        "**For BCR::ABL1** example we will be more conservative and use IC50 values for Imatinib as a starting point. IC50 values need to be in this range or lower is critical to outperform existing therapies and provide efficacy against potential resistance mutations, such as T315I. We want our drug discovery efforts to be on par or better than existing standard of care therapies like Imatinib. Thus compounds >=1000 will be inactive, <=100 will be active and 100-1000 will be intermediate."
      ]
    },
    {
      "cell_type": "markdown",
      "metadata": {},
      "source": [
        "#### **Create a list of bioactivity_class with your selected parameters**"
      ]
    },
    {
      "cell_type": "code",
      "execution_count": 0,
      "metadata": {
        "colab": {},
        "colab_type": "code",
        "id": "1E8rz7oMOd-5"
      },
      "outputs": [],
      "source": [
        "bioactivity_class = []\n",
        "for i in df2.standard_value:\n",
        "  if float(i) >= 1000:\n",
        "    bioactivity_class.append(\"inactive\")\n",
        "  elif float(i) <= 100:\n",
        "    bioactivity_class.append(\"active\")\n",
        "  else:\n",
        "    bioactivity_class.append(\"intermediate\")"
      ]
    },
    {
      "cell_type": "markdown",
      "metadata": {
        "colab_type": "text",
        "id": "PFsmb2N9hnTB"
      },
      "source": [
        "#### **Iterate the *molecule_chembl_id* to a list**"
      ]
    },
    {
      "cell_type": "code",
      "execution_count": 0,
      "metadata": {
        "colab": {},
        "colab_type": "code",
        "id": "DMJng9xnVnMM"
      },
      "outputs": [],
      "source": [
        "mol_cid = []\n",
        "for i in df2.molecule_chembl_id:\n",
        "  mol_cid.append(i)"
      ]
    },
    {
      "cell_type": "markdown",
      "metadata": {
        "colab_type": "text",
        "id": "YRieJc9dhuVZ"
      },
      "source": [
        "#### **Iterate *canonical_smiles* to a list**"
      ]
    },
    {
      "cell_type": "code",
      "execution_count": 0,
      "metadata": {
        "colab": {},
        "colab_type": "code",
        "id": "AT8qUBk1eVmj"
      },
      "outputs": [],
      "source": [
        "canonical_smiles = []\n",
        "for i in df2.canonical_smiles:\n",
        "  canonical_smiles.append(i)"
      ]
    },
    {
      "cell_type": "markdown",
      "metadata": {
        "colab_type": "text",
        "id": "DZFugUXxhwjE"
      },
      "source": [
        "#### **Iterate *standard_value* to a list**"
      ]
    },
    {
      "cell_type": "code",
      "execution_count": 0,
      "metadata": {
        "colab": {},
        "colab_type": "code",
        "id": "ZaPt-FjEZNBe"
      },
      "outputs": [],
      "source": [
        "standard_value = []\n",
        "for i in df2.standard_value:\n",
        "  standard_value.append(i)"
      ]
    },
    {
      "cell_type": "markdown",
      "metadata": {
        "colab_type": "text",
        "id": "Nv2dzid_hzKd"
      },
      "source": [
        "#### **Combine the 4 lists into a dataframe called df3**"
      ]
    },
    {
      "cell_type": "code",
      "execution_count": 0,
      "metadata": {
        "colab": {},
        "colab_type": "code",
        "id": "TWlYO4I3Wrh-"
      },
      "outputs": [],
      "source": [
        "data_tuples = list(zip(mol_cid, canonical_smiles, bioactivity_class, standard_value))\n",
        "df3 = pd.DataFrame( data_tuples,  columns=['molecul e_chembl_id', 'canonical_smiles', 'bioactivity_class', 'standard_value'])"
      ]
    },
    {
      "cell_type": "markdown",
      "metadata": {
        "colab_type": "text",
        "id": "vE0Vvo6ic3MI"
      },
      "source": [
        "#### **Alternative method**"
      ]
    },
    {
      "cell_type": "code",
      "execution_count": 0,
      "metadata": {
        "colab": {
          "base_uri": "https://localhost:8080/",
          "height": 415
        },
        "colab_type": "code",
        "id": "VICiiCtqc2ne",
        "outputId": "0b39e703-b724-4f02-d86c-ea07791cdeed"
      },
      "outputs": [],
      "source": [
        "selection = ['molecule_chembl_id', 'canonical_smiles', 'standard_value']\n",
        "df3 = df2[selection]\n",
        "df3"
      ]
    },
    {
      "cell_type": "code",
      "execution_count": 0,
      "metadata": {
        "colab": {
          "base_uri": "https://localhost:8080/",
          "height": 415
        },
        "colab_type": "code",
        "id": "d8nV77oWdbq1",
        "outputId": "2df59721-3567-48bc-a732-a0b09fa8aa12"
      },
      "outputs": [],
      "source": [
        "pd.concat([df3,pd.Series(bioactivity_class)], axis=1)"
      ]
    },
    {
      "cell_type": "markdown",
      "metadata": {
        "colab_type": "text",
        "id": "9tlgyexWh7YJ"
      },
      "source": [
        "Save df3 to CSV file in /data"
      ]
    },
    {
      "cell_type": "code",
      "execution_count": 0,
      "metadata": {
        "colab": {},
        "colab_type": "code",
        "id": "nSNia7suXstR"
      },
      "outputs": [],
      "source": [
        "df3.to_csv('bioactivity_data_preprocessed.csv', index=False)"
      ]
    },
    {
      "cell_type": "markdown",
      "metadata": {
        "colab_type": "text",
        "id": "ZywB5K_Dlawb"
      },
      "source": [
        "---"
      ]
    }
  ],
  "metadata": {
    "colab": {
      "collapsed_sections": [],
      "name": "CDD-ML-Part-1-bioactivity-data.ipynb",
      "provenance": []
    },
    "kernelspec": {
      "display_name": "bioinfo",
      "language": "python",
      "name": "python3"
    },
    "language_info": {
      "name": "python",
      "version": "3.10.15"
    }
  },
  "nbformat": 4,
  "nbformat_minor": 0
}
